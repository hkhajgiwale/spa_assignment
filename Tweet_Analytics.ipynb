{
 "cells": [
  {
   "cell_type": "markdown",
   "id": "aa0ee45c",
   "metadata": {},
   "source": [
    "# Tweet Analytics\n",
    "### Group ID: Group035\n",
    "### Members\n",
    "1. Ananta Patil\n",
    "2. Mahesh Mehendale\n",
    "3. Harsh Ajit Khajgiwale"
   ]
  },
  {
   "cell_type": "code",
   "execution_count": 1,
   "id": "3b471ca7",
   "metadata": {},
   "outputs": [
    {
     "name": "stdout",
     "output_type": "stream",
     "text": [
      "Defaulting to user installation because normal site-packages is not writeable\n",
      "Requirement already satisfied: pymongo in /home/harsh/.local/lib/python3.8/site-packages (3.12.0)\n",
      "\u001b[33mWARNING: You are using pip version 21.1.3; however, version 21.2.4 is available.\n",
      "You should consider upgrading via the '/usr/bin/python3 -m pip install --upgrade pip' command.\u001b[0m\n",
      "Defaulting to user installation because normal site-packages is not writeable\n",
      "Requirement already satisfied: matplotlib in /home/harsh/.local/lib/python3.8/site-packages (3.4.3)\n",
      "Requirement already satisfied: kiwisolver>=1.0.1 in /home/harsh/.local/lib/python3.8/site-packages (from matplotlib) (1.3.2)\n",
      "Requirement already satisfied: cycler>=0.10 in /home/harsh/.local/lib/python3.8/site-packages (from matplotlib) (0.10.0)\n",
      "Requirement already satisfied: pillow>=6.2.0 in /usr/lib/python3/dist-packages (from matplotlib) (7.0.0)\n",
      "Requirement already satisfied: python-dateutil>=2.7 in /usr/lib/python3/dist-packages (from matplotlib) (2.7.3)\n",
      "Requirement already satisfied: pyparsing>=2.2.1 in /home/harsh/.local/lib/python3.8/site-packages (from matplotlib) (2.4.7)\n",
      "Requirement already satisfied: numpy>=1.16 in /home/harsh/.local/lib/python3.8/site-packages (from matplotlib) (1.21.0)\n",
      "Requirement already satisfied: six in /usr/lib/python3/dist-packages (from cycler>=0.10->matplotlib) (1.14.0)\n",
      "\u001b[33mWARNING: You are using pip version 21.1.3; however, version 21.2.4 is available.\n",
      "You should consider upgrading via the '/usr/bin/python3 -m pip install --upgrade pip' command.\u001b[0m\n",
      "ERROR: unknown command \"intall\" - maybe you meant \"install\"\n",
      "Defaulting to user installation because normal site-packages is not writeable\n",
      "Requirement already satisfied: numpy in /home/harsh/.local/lib/python3.8/site-packages (1.21.0)\n",
      "\u001b[33mWARNING: You are using pip version 21.1.3; however, version 21.2.4 is available.\n",
      "You should consider upgrading via the '/usr/bin/python3 -m pip install --upgrade pip' command.\u001b[0m\n"
     ]
    }
   ],
   "source": [
    "!pip install pymongo\n",
    "!pip install matplotlib\n",
    "!pip intall pandas\n",
    "!pip install numpy"
   ]
  },
  {
   "cell_type": "code",
   "execution_count": 2,
   "id": "814db8c4",
   "metadata": {},
   "outputs": [],
   "source": [
    "from pymongo import MongoClient\n",
    "import json\n",
    "import matplotlib.pyplot as plt\n",
    "import pandas as pd\n",
    "import numpy as np"
   ]
  },
  {
   "cell_type": "code",
   "execution_count": 3,
   "id": "f73617f1",
   "metadata": {},
   "outputs": [],
   "source": [
    "#Connecting to MonogDB\n",
    "client = MongoClient(\"mongodb://localhost:27017/\")"
   ]
  },
  {
   "cell_type": "code",
   "execution_count": 4,
   "id": "c1eeab72",
   "metadata": {},
   "outputs": [],
   "source": [
    "#Database name => IrGroup10\n",
    "mydatabase = client[\"IrGroup10\"]"
   ]
  },
  {
   "cell_type": "code",
   "execution_count": 5,
   "id": "4f2f77bf",
   "metadata": {},
   "outputs": [],
   "source": [
    "#Selecting collection => consumer_data\n",
    "mycollection = mydatabase[\"consumer_data\"]"
   ]
  },
  {
   "cell_type": "code",
   "execution_count": 6,
   "id": "58a67453",
   "metadata": {
    "scrolled": true
   },
   "outputs": [
    {
     "name": "stderr",
     "output_type": "stream",
     "text": [
      "<ipython-input-6-b253b998c5ee>:2: DeprecationWarning: count is deprecated. Use estimated_document_count or count_documents instead. Please note that $where must be replaced by $expr, $near must be replaced by $geoWithin with $center, and $nearSphere must be replaced by $geoWithin with $centerSphere\n",
      "  mycollection.count()\n"
     ]
    },
    {
     "data": {
      "text/plain": [
       "21266"
      ]
     },
     "execution_count": 6,
     "metadata": {},
     "output_type": "execute_result"
    }
   ],
   "source": [
    "#Total records in consumer_data\n",
    "mycollection.count()"
   ]
  },
  {
   "cell_type": "code",
   "execution_count": 7,
   "id": "48709641",
   "metadata": {},
   "outputs": [],
   "source": [
    "cursor = mycollection.find()"
   ]
  },
  {
   "cell_type": "code",
   "execution_count": 8,
   "id": "75f9d33e",
   "metadata": {},
   "outputs": [],
   "source": [
    "tweets_feed = {}\n",
    "for record in cursor:\n",
    "    convertedDict = json.loads(record['tweets'])\n",
    "    tweets_feed[convertedDict['tweet_id']] = []\n",
    "    tweets_feed[convertedDict['tweet_id']].append(convertedDict['user_id'])\n",
    "    tweets_feed[convertedDict['tweet_id']].append(convertedDict['user_name'])\n",
    "    tweets_feed[convertedDict['tweet_id']].append(convertedDict['user_screen_name'])\n",
    "    tweets_feed[convertedDict['tweet_id']].append(convertedDict['user_followers_count'])\n",
    "    tweets_feed[convertedDict['tweet_id']].append(convertedDict['user_location'])\n",
    "    tweets_feed[convertedDict['tweet_id']].append(convertedDict['tweet_text'])\n",
    "    tweets_feed[convertedDict['tweet_id']].append(convertedDict['tweet_lang'])\n",
    "    "
   ]
  },
  {
   "cell_type": "code",
   "execution_count": 9,
   "id": "25ec24ee",
   "metadata": {},
   "outputs": [],
   "source": [
    "df = pd.DataFrame.from_dict(tweets_feed)"
   ]
  },
  {
   "cell_type": "code",
   "execution_count": 10,
   "id": "e2178df2",
   "metadata": {},
   "outputs": [],
   "source": [
    "df = df.transpose()"
   ]
  },
  {
   "cell_type": "code",
   "execution_count": 11,
   "id": "2a536eb2",
   "metadata": {},
   "outputs": [],
   "source": [
    "df.columns=['user_id','user_name','user_screen_name','user_followers_count','user_location','tweet_text','tweet_lang']"
   ]
  },
  {
   "cell_type": "code",
   "execution_count": 12,
   "id": "2ea4347a",
   "metadata": {},
   "outputs": [],
   "source": [
    "df.index.name= 'tweet_id'"
   ]
  },
  {
   "cell_type": "code",
   "execution_count": 13,
   "id": "8db266dd",
   "metadata": {},
   "outputs": [
    {
     "data": {
      "text/html": [
       "<div>\n",
       "<style scoped>\n",
       "    .dataframe tbody tr th:only-of-type {\n",
       "        vertical-align: middle;\n",
       "    }\n",
       "\n",
       "    .dataframe tbody tr th {\n",
       "        vertical-align: top;\n",
       "    }\n",
       "\n",
       "    .dataframe thead th {\n",
       "        text-align: right;\n",
       "    }\n",
       "</style>\n",
       "<table border=\"1\" class=\"dataframe\">\n",
       "  <thead>\n",
       "    <tr style=\"text-align: right;\">\n",
       "      <th></th>\n",
       "      <th>user_id</th>\n",
       "      <th>user_name</th>\n",
       "      <th>user_screen_name</th>\n",
       "      <th>user_followers_count</th>\n",
       "      <th>user_location</th>\n",
       "      <th>tweet_text</th>\n",
       "      <th>tweet_lang</th>\n",
       "    </tr>\n",
       "    <tr>\n",
       "      <th>tweet_id</th>\n",
       "      <th></th>\n",
       "      <th></th>\n",
       "      <th></th>\n",
       "      <th></th>\n",
       "      <th></th>\n",
       "      <th></th>\n",
       "      <th></th>\n",
       "    </tr>\n",
       "  </thead>\n",
       "  <tbody>\n",
       "    <tr>\n",
       "      <th>1433450460833275915</th>\n",
       "      <td>1347685363763077121</td>\n",
       "      <td>ɪ.ᴠɪᴠɪ🖤</td>\n",
       "      <td>EscobarIvivi</td>\n",
       "      <td>204</td>\n",
       "      <td>None</td>\n",
       "      <td>😭😭😭😭😭😭</td>\n",
       "      <td>und</td>\n",
       "    </tr>\n",
       "    <tr>\n",
       "      <th>1433450461181403145</th>\n",
       "      <td>981555457</td>\n",
       "      <td>litö🐞</td>\n",
       "      <td>scallywagcarlos</td>\n",
       "      <td>21822</td>\n",
       "      <td>they/he</td>\n",
       "      <td>RT @YourFriendSamer: I’m screaming we went to ...</td>\n",
       "      <td>en</td>\n",
       "    </tr>\n",
       "    <tr>\n",
       "      <th>1433450461529395202</th>\n",
       "      <td>4724605634</td>\n",
       "      <td>SchoolFinds</td>\n",
       "      <td>school_finds</td>\n",
       "      <td>91</td>\n",
       "      <td>India</td>\n",
       "      <td>#CoronaWatch United State corona cases up 2.11...</td>\n",
       "      <td>en</td>\n",
       "    </tr>\n",
       "    <tr>\n",
       "      <th>1433450462511050753</th>\n",
       "      <td>865991759247093760</td>\n",
       "      <td>Daniel cracknall</td>\n",
       "      <td>MLeCraquepot</td>\n",
       "      <td>4239</td>\n",
       "      <td>Ealing, United Kingdom</td>\n",
       "      <td>This useless #Conservative govt building on th...</td>\n",
       "      <td>en</td>\n",
       "    </tr>\n",
       "    <tr>\n",
       "      <th>1433450468748013569</th>\n",
       "      <td>17290173</td>\n",
       "      <td>Zoraya Suarez</td>\n",
       "      <td>ZorayaSuarezPNC</td>\n",
       "      <td>1152</td>\n",
       "      <td>Orlando, FL</td>\n",
       "      <td>.@PNCBank's Head of #TreasuryManagement in Flo...</td>\n",
       "      <td>en</td>\n",
       "    </tr>\n",
       "  </tbody>\n",
       "</table>\n",
       "</div>"
      ],
      "text/plain": [
       "                                 user_id         user_name user_screen_name  \\\n",
       "tweet_id                                                                      \n",
       "1433450460833275915  1347685363763077121           ɪ.ᴠɪᴠɪ🖤     EscobarIvivi   \n",
       "1433450461181403145            981555457             litö🐞  scallywagcarlos   \n",
       "1433450461529395202           4724605634       SchoolFinds     school_finds   \n",
       "1433450462511050753   865991759247093760  Daniel cracknall     MLeCraquepot   \n",
       "1433450468748013569             17290173     Zoraya Suarez  ZorayaSuarezPNC   \n",
       "\n",
       "                    user_followers_count           user_location  \\\n",
       "tweet_id                                                           \n",
       "1433450460833275915                  204                    None   \n",
       "1433450461181403145                21822                 they/he   \n",
       "1433450461529395202                   91                   India   \n",
       "1433450462511050753                 4239  Ealing, United Kingdom   \n",
       "1433450468748013569                 1152             Orlando, FL   \n",
       "\n",
       "                                                            tweet_text  \\\n",
       "tweet_id                                                                 \n",
       "1433450460833275915                                             😭😭😭😭😭😭   \n",
       "1433450461181403145  RT @YourFriendSamer: I’m screaming we went to ...   \n",
       "1433450461529395202  #CoronaWatch United State corona cases up 2.11...   \n",
       "1433450462511050753  This useless #Conservative govt building on th...   \n",
       "1433450468748013569  .@PNCBank's Head of #TreasuryManagement in Flo...   \n",
       "\n",
       "                    tweet_lang  \n",
       "tweet_id                        \n",
       "1433450460833275915        und  \n",
       "1433450461181403145         en  \n",
       "1433450461529395202         en  \n",
       "1433450462511050753         en  \n",
       "1433450468748013569         en  "
      ]
     },
     "execution_count": 13,
     "metadata": {},
     "output_type": "execute_result"
    }
   ],
   "source": [
    "df.head()"
   ]
  },
  {
   "cell_type": "code",
   "execution_count": 14,
   "id": "92407e7a",
   "metadata": {},
   "outputs": [
    {
     "name": "stdout",
     "output_type": "stream",
     "text": [
      "<class 'pandas.core.frame.DataFrame'>\n",
      "Int64Index: 21266 entries, 1433450460833275915 to 1433479724089679886\n",
      "Data columns (total 7 columns):\n",
      " #   Column                Non-Null Count  Dtype \n",
      "---  ------                --------------  ----- \n",
      " 0   user_id               21266 non-null  object\n",
      " 1   user_name             21266 non-null  object\n",
      " 2   user_screen_name      21266 non-null  object\n",
      " 3   user_followers_count  21266 non-null  object\n",
      " 4   user_location         13036 non-null  object\n",
      " 5   tweet_text            21266 non-null  object\n",
      " 6   tweet_lang            21266 non-null  object\n",
      "dtypes: object(7)\n",
      "memory usage: 1.3+ MB\n"
     ]
    }
   ],
   "source": [
    "df.info()"
   ]
  },
  {
   "cell_type": "markdown",
   "id": "f9697aff",
   "metadata": {},
   "source": [
    "## Number of unique users and Unique locations of tweets"
   ]
  },
  {
   "cell_type": "code",
   "execution_count": 15,
   "id": "9dbdb758",
   "metadata": {},
   "outputs": [
    {
     "data": {
      "text/plain": [
       "(17122, 6212)"
      ]
     },
     "execution_count": 15,
     "metadata": {},
     "output_type": "execute_result"
    }
   ],
   "source": [
    "len(df['user_id'].unique()),len(df['user_location'].unique())"
   ]
  },
  {
   "cell_type": "code",
   "execution_count": 16,
   "id": "f8bbc3a3",
   "metadata": {},
   "outputs": [
    {
     "data": {
      "text/plain": [
       "<BarContainer object of 2 artists>"
      ]
     },
     "execution_count": 16,
     "metadata": {},
     "output_type": "execute_result"
    },
    {
     "data": {
      "image/png": "[encoded data removed]",
      "text/plain": [
       "<Figure size 432x288 with 1 Axes>"
      ]
     },
     "metadata": {
      "needs_background": "light"
     },
     "output_type": "display_data"
    }
   ],
   "source": [
    "x = np.array([\"unique users\", \"unique locations\"])\n",
    "y = np.array([len(df['user_id'].unique()),len(df['user_location'].unique())])\n",
    "plt.bar(x,y)"
   ]
  },
  {
   "cell_type": "markdown",
   "id": "56919edf",
   "metadata": {},
   "source": [
    "## Top 20 active locations (country,state and city wise) on twitter"
   ]
  },
  {
   "cell_type": "code",
   "execution_count": 17,
   "id": "fdd18dbc",
   "metadata": {},
   "outputs": [],
   "source": [
    "top_20_active_locations = df.groupby(by='user_location').count().sort_values(by='user_id', ascending=False)[0:20]['user_id']"
   ]
  },
  {
   "cell_type": "code",
   "execution_count": 18,
   "id": "89dd2b67",
   "metadata": {},
   "outputs": [
    {
     "data": {
      "text/plain": [
       "<AxesSubplot:xlabel='user_location'>"
      ]
     },
     "execution_count": 18,
     "metadata": {},
     "output_type": "execute_result"
    },
    {
     "name": "stderr",
     "output_type": "stream",
     "text": [
      "/home/harsh/.local/lib/python3.8/site-packages/matplotlib/backends/backend_agg.py:240: RuntimeWarning: Glyph 3349 missing from current font.\n",
      "  font.set_text(s, 0.0, flags=flags)\n",
      "/home/harsh/.local/lib/python3.8/site-packages/matplotlib/backends/backend_agg.py:240: RuntimeWarning: Glyph 3399 missing from current font.\n",
      "  font.set_text(s, 0.0, flags=flags)\n",
      "/home/harsh/.local/lib/python3.8/site-packages/matplotlib/backends/backend_agg.py:240: RuntimeWarning: Glyph 3376 missing from current font.\n",
      "  font.set_text(s, 0.0, flags=flags)\n",
      "/home/harsh/.local/lib/python3.8/site-packages/matplotlib/backends/backend_agg.py:240: RuntimeWarning: Glyph 3379 missing from current font.\n",
      "  font.set_text(s, 0.0, flags=flags)\n",
      "/home/harsh/.local/lib/python3.8/site-packages/matplotlib/backends/backend_agg.py:240: RuntimeWarning: Glyph 3330 missing from current font.\n",
      "  font.set_text(s, 0.0, flags=flags)\n",
      "/home/harsh/.local/lib/python3.8/site-packages/matplotlib/backends/backend_agg.py:240: RuntimeWarning: Glyph 3611 missing from current font.\n",
      "  font.set_text(s, 0.0, flags=flags)\n",
      "/home/harsh/.local/lib/python3.8/site-packages/matplotlib/backends/backend_agg.py:240: RuntimeWarning: Glyph 3619 missing from current font.\n",
      "  font.set_text(s, 0.0, flags=flags)\n",
      "/home/harsh/.local/lib/python3.8/site-packages/matplotlib/backends/backend_agg.py:240: RuntimeWarning: Glyph 3632 missing from current font.\n",
      "  font.set_text(s, 0.0, flags=flags)\n",
      "/home/harsh/.local/lib/python3.8/site-packages/matplotlib/backends/backend_agg.py:240: RuntimeWarning: Glyph 3648 missing from current font.\n",
      "  font.set_text(s, 0.0, flags=flags)\n",
      "/home/harsh/.local/lib/python3.8/site-packages/matplotlib/backends/backend_agg.py:240: RuntimeWarning: Glyph 3607 missing from current font.\n",
      "  font.set_text(s, 0.0, flags=flags)\n",
      "/home/harsh/.local/lib/python3.8/site-packages/matplotlib/backends/backend_agg.py:240: RuntimeWarning: Glyph 3624 missing from current font.\n",
      "  font.set_text(s, 0.0, flags=flags)\n",
      "/home/harsh/.local/lib/python3.8/site-packages/matplotlib/backends/backend_agg.py:240: RuntimeWarning: Glyph 3652 missing from current font.\n",
      "  font.set_text(s, 0.0, flags=flags)\n",
      "/home/harsh/.local/lib/python3.8/site-packages/matplotlib/backends/backend_agg.py:240: RuntimeWarning: Glyph 3618 missing from current font.\n",
      "  font.set_text(s, 0.0, flags=flags)\n",
      "/home/harsh/.local/lib/python3.8/site-packages/matplotlib/backends/backend_agg.py:203: RuntimeWarning: Glyph 3349 missing from current font.\n",
      "  font.set_text(s, 0, flags=flags)\n",
      "/home/harsh/.local/lib/python3.8/site-packages/matplotlib/backends/backend_agg.py:203: RuntimeWarning: Glyph 3399 missing from current font.\n",
      "  font.set_text(s, 0, flags=flags)\n",
      "/home/harsh/.local/lib/python3.8/site-packages/matplotlib/backends/backend_agg.py:203: RuntimeWarning: Glyph 3376 missing from current font.\n",
      "  font.set_text(s, 0, flags=flags)\n",
      "/home/harsh/.local/lib/python3.8/site-packages/matplotlib/backends/backend_agg.py:203: RuntimeWarning: Glyph 3379 missing from current font.\n",
      "  font.set_text(s, 0, flags=flags)\n",
      "/home/harsh/.local/lib/python3.8/site-packages/matplotlib/backends/backend_agg.py:203: RuntimeWarning: Glyph 3330 missing from current font.\n",
      "  font.set_text(s, 0, flags=flags)\n",
      "/home/harsh/.local/lib/python3.8/site-packages/matplotlib/backends/backend_agg.py:203: RuntimeWarning: Glyph 3611 missing from current font.\n",
      "  font.set_text(s, 0, flags=flags)\n",
      "/home/harsh/.local/lib/python3.8/site-packages/matplotlib/backends/backend_agg.py:203: RuntimeWarning: Glyph 3619 missing from current font.\n",
      "  font.set_text(s, 0, flags=flags)\n",
      "/home/harsh/.local/lib/python3.8/site-packages/matplotlib/backends/backend_agg.py:203: RuntimeWarning: Glyph 3632 missing from current font.\n",
      "  font.set_text(s, 0, flags=flags)\n",
      "/home/harsh/.local/lib/python3.8/site-packages/matplotlib/backends/backend_agg.py:203: RuntimeWarning: Glyph 3648 missing from current font.\n",
      "  font.set_text(s, 0, flags=flags)\n",
      "/home/harsh/.local/lib/python3.8/site-packages/matplotlib/backends/backend_agg.py:203: RuntimeWarning: Glyph 3607 missing from current font.\n",
      "  font.set_text(s, 0, flags=flags)\n",
      "/home/harsh/.local/lib/python3.8/site-packages/matplotlib/backends/backend_agg.py:203: RuntimeWarning: Glyph 3624 missing from current font.\n",
      "  font.set_text(s, 0, flags=flags)\n",
      "/home/harsh/.local/lib/python3.8/site-packages/matplotlib/backends/backend_agg.py:203: RuntimeWarning: Glyph 3652 missing from current font.\n",
      "  font.set_text(s, 0, flags=flags)\n",
      "/home/harsh/.local/lib/python3.8/site-packages/matplotlib/backends/backend_agg.py:203: RuntimeWarning: Glyph 3618 missing from current font.\n",
      "  font.set_text(s, 0, flags=flags)\n"
     ]
    },
    {
     "data": {
      "image/png": "[encoded data removed]",
      "text/plain": [
       "<Figure size 432x288 with 1 Axes>"
      ]
     },
     "metadata": {
      "needs_background": "light"
     },
     "output_type": "display_data"
    }
   ],
   "source": [
    "top_20_active_locations.plot.bar()"
   ]
  },
  {
   "cell_type": "markdown",
   "id": "ae8ded50",
   "metadata": {},
   "source": [
    "## Top 20 Langauages used on Twitter across globe"
   ]
  },
  {
   "cell_type": "code",
   "execution_count": 19,
   "id": "00be5c7d",
   "metadata": {},
   "outputs": [],
   "source": [
    "top_20_lang_used_on_twitter = df.groupby(by='tweet_lang').count().sort_values(by='user_id', ascending=False)[0:20]['user_id']"
   ]
  },
  {
   "cell_type": "code",
   "execution_count": 20,
   "id": "aaf27a46",
   "metadata": {},
   "outputs": [
    {
     "data": {
      "text/plain": [
       "<AxesSubplot:xlabel='tweet_lang'>"
      ]
     },
     "execution_count": 20,
     "metadata": {},
     "output_type": "execute_result"
    },
    {
     "data": {
      "image/png": "[encoded data removed]",
      "text/plain": [
       "<Figure size 432x288 with 1 Axes>"
      ]
     },
     "metadata": {
      "needs_background": "light"
     },
     "output_type": "display_data"
    }
   ],
   "source": [
    "top_20_lang_used_on_twitter.plot.bar(color='red')"
   ]
  },
  {
   "cell_type": "markdown",
   "id": "9b923438",
   "metadata": {},
   "source": [
    "## Top 20 user names followed on twitter"
   ]
  },
  {
   "cell_type": "code",
   "execution_count": 21,
   "id": "d50382da",
   "metadata": {},
   "outputs": [],
   "source": [
    "top_20_followed_users = df.sort_values(by='user_followers_count', ascending=False)[0:20][['user_name','user_followers_count']]"
   ]
  },
  {
   "cell_type": "code",
   "execution_count": 22,
   "id": "fa0ccbf3",
   "metadata": {},
   "outputs": [
    {
     "data": {
      "text/plain": [
       "([0, 1, 2, 3, 4, 5, 6, 7],\n",
       " [Text(0, 0, ''),\n",
       "  Text(0, 0, ''),\n",
       "  Text(0, 0, ''),\n",
       "  Text(0, 0, ''),\n",
       "  Text(0, 0, ''),\n",
       "  Text(0, 0, ''),\n",
       "  Text(0, 0, ''),\n",
       "  Text(0, 0, '')])"
      ]
     },
     "execution_count": 22,
     "metadata": {},
     "output_type": "execute_result"
    },
    {
     "data": {
      "image/png": "[encoded data removed]",
      "text/plain": [
       "<Figure size 1080x288 with 1 Axes>"
      ]
     },
     "metadata": {
      "needs_background": "light"
     },
     "output_type": "display_data"
    }
   ],
   "source": [
    "plt.figure(figsize=(15,4))\n",
    "plt.bar(top_20_followed_users['user_name'],top_20_followed_users['user_followers_count'],color='cyan')\n",
    "plt.xticks(rotation=90)"
   ]
  }
 ],
 "metadata": {
  "kernelspec": {
   "display_name": "Python 3",
   "language": "python",
   "name": "python3"
  },
  "language_info": {
   "codemirror_mode": {
    "name": "ipython",
    "version": 3
   },
   "file_extension": ".py",
   "mimetype": "text/x-python",
   "name": "python",
   "nbconvert_exporter": "python",
   "pygments_lexer": "ipython3",
   "version": "3.8.10"
  }
 },
 "nbformat": 4,
 "nbformat_minor": 5
}
